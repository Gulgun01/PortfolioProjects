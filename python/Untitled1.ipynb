{
 "cells": [
  {
   "cell_type": "code",
   "execution_count": 1,
   "id": "f663c699-1512-43c3-b1b8-4104f64a2d9c",
   "metadata": {},
   "outputs": [
    {
     "name": "stdout",
     "output_type": "stream",
     "text": [
      "      Net Income symbol  Year\n",
      "0   9.699500e+10   AAPL  2023\n",
      "1   9.980300e+10   AAPL  2022\n",
      "2   9.468000e+10   AAPL  2021\n",
      "3   5.741100e+10   AAPL  2020\n",
      "4   1.499900e+10   TSLA  2023\n",
      "5   1.258300e+10   TSLA  2022\n",
      "6   5.524000e+09   TSLA  2021\n",
      "7   7.210000e+08   TSLA  2020\n",
      "8   7.236100e+10   MSFT  2023\n",
      "9   7.273800e+10   MSFT  2022\n",
      "10  6.127100e+10   MSFT  2021\n",
      "11  4.368000e+09   NVDA  2023\n",
      "12  9.752000e+09   NVDA  2022\n",
      "13  4.332000e+09   NVDA  2021\n",
      "14  7.379500e+10  GOOGL  2023\n"
     ]
    }
   ],
   "source": [
    "import yfinance as yf\n",
    "import pandas as pd\n",
    "import matplotlib.pyplot as plt\n",
    "\n",
    "# Identify companies symbols\n",
    "symbols = ['AAPL', 'TSLA', 'MSFT', 'NVDA', 'GOOGL', 'AMZN', 'META', 'TSM', 'AVGO', 'TCEHY']\n",
    "\n",
    "# Create a list to store data\n",
    "combined_data = []\n",
    "\n",
    "for symbol in symbols:\n",
    "    # Pull company data\n",
    "    stock = yf.Ticker(symbol)\n",
    "    \n",
    "    # Get the income statement\n",
    "    income_statement = stock.financials.T\n",
    "    \n",
    "    if 'Net Income' in income_statement.columns:\n",
    "        # Get annual net income data and add year information\n",
    "        net_income = income_statement[['Net Income']].copy()\n",
    "        net_income.loc[:, 'symbol'] = symbol  # Add column using loc func.\n",
    "        net_income.loc[:, 'Year'] = net_income.index.year\n",
    "        \n",
    "        # Only keep data from 2020-2023\n",
    "        net_income = net_income[net_income['Year'].between(2020, 2023)]\n",
    "        \n",
    "        # Add data to list\n",
    "        combined_data.append(net_income)\n",
    "    else:\n",
    "        print(f\"{symbol} No 'Net Income' .\")\n",
    "\n",
    "# Manually adding 2024 data\n",
    "manual_data = {\n",
    "    'AAPL': 100.389e9,\n",
    "    'TSLA': 13.652e9,\n",
    "    'MSFT': 86.181e9,\n",
    "    'NVDA': 42.598e9,\n",
    "    'GOOGL': 82.406e9,\n",
    "    'AMZN': 37.684e9,\n",
    "    'META': 45.758e9,\n",
    "    'TSM': 28.177e9,\n",
    "    'AVGO': 10.273e9,\n",
    "    'TCEHY': 17.396e9\n",
    "}\n",
    "\n",
    "# Add 2024 data to DataFrame\n",
    "manual_df = pd.DataFrame({\n",
    "    'Net Income': [manual_data[symbol] for symbol in symbols],\n",
    "    'symbol': symbols,\n",
    "    'Year': [2024] * len(symbols)\n",
    "})\n",
    "\n",
    "# Add missing 2020 data\n",
    "additional_data = [{'Net Income': 2796000000.0, 'symbol': 'NVDA', 'Year': 2020}]\n",
    "\n",
    "additional_df = pd.DataFrame(additional_data)\n",
    "\n",
    "# Combine all data\n",
    "if combined_data:\n",
    "    combined_df = pd.concat(combined_data, ignore_index=True)\n",
    "    combined_df = pd.concat([combined_df, manual_df, additional_df], ignore_index=True)\n",
    "    \n",
    "    # convert to a CSV file\n",
    "    csv_file_path = 'combined_annual_net_income.csv'\n",
    "    combined_df.to_csv(csv_file_path, index=False)\n",
    "    \n",
    "    # Read CSV file and print first 10 rows\n",
    "    earnings_data = pd.read_csv(csv_file_path)\n",
    "    print(earnings_data.head(10))  \n",
    "else:\n",
    "    print(\"There is no valid data to merge.\")\n",
    "\n"
   ]
  },
  {
   "cell_type": "code",
   "execution_count": 3,
   "id": "5c933e47-22c9-4064-b9fe-6ae16f67dc7c",
   "metadata": {},
   "outputs": [
    {
     "data": {
      "text/plain": [
       "(50, 3)"
      ]
     },
     "execution_count": 3,
     "metadata": {},
     "output_type": "execute_result"
    }
   ],
   "source": [
    "#counting the numbers of rows and columns\n",
    "earnings_data.shape\n"
   ]
  },
  {
   "cell_type": "code",
   "execution_count": 5,
   "id": "0480d4b7-bf00-41ae-9a4a-aa46a48089b1",
   "metadata": {},
   "outputs": [
    {
     "name": "stdout",
     "output_type": "stream",
     "text": [
      "Net Income    False\n",
      "symbol        False\n",
      "Year          False\n",
      "dtype: bool\n"
     ]
    }
   ],
   "source": [
    "# checking null values\n",
    "null_check =  earnings_data.isnull().any()\n",
    "print(null_check)"
   ]
  },
  {
   "cell_type": "code",
   "execution_count": 7,
   "id": "015292b3-a4da-4244-aa1d-2f5258e303bc",
   "metadata": {},
   "outputs": [
    {
     "data": {
      "text/plain": [
       "0"
      ]
     },
     "execution_count": 7,
     "metadata": {},
     "output_type": "execute_result"
    }
   ],
   "source": [
    "# duplicate data in the dataset\n",
    "earnings_data.duplicated().sum()"
   ]
  },
  {
   "cell_type": "code",
   "execution_count": 9,
   "id": "9d4b63f8-e7f6-48e5-a352-115d7be14247",
   "metadata": {},
   "outputs": [
    {
     "data": {
      "text/plain": [
       "Net Income    float64\n",
       "symbol         object\n",
       "Year            int64\n",
       "dtype: object"
      ]
     },
     "execution_count": 9,
     "metadata": {},
     "output_type": "execute_result"
    }
   ],
   "source": [
    "# type of columns in the dataset\n",
    "earnings_data.dtypes"
   ]
  },
  {
   "cell_type": "code",
   "execution_count": 11,
   "id": "57aeb792-5712-497f-a5c8-6778c5363ca2",
   "metadata": {},
   "outputs": [],
   "source": [
    "# changing the data type of columns in the dataset\n",
    "earnings_data['Year'] = earnings_data['Year'].astype('int32')\n",
    "earnings_data['symbol'] = earnings_data['symbol'].astype('category')\n",
    "# Bilimsel gösterimi kapatma\n",
    "pd.set_option('display.float_format', '{:,.0f}'.format)\n",
    "\n",
    "\n"
   ]
  },
  {
   "cell_type": "code",
   "execution_count": 39,
   "id": "d0a41ac9-08d8-4449-84b6-dc27350fa890",
   "metadata": {},
   "outputs": [
    {
     "name": "stdout",
     "output_type": "stream",
     "text": [
      "Outliers (IQR method):\n",
      "        Net Income symbol  Year\n",
      "26 851,740,000,000    TSM  2023\n",
      "27 992,923,400,000    TSM  2022\n",
      "28 592,359,200,000    TSM  2021\n",
      "29 510,744,000,000    TSM  2020\n",
      "36 224,822,000,000  TCEHY  2021\n"
     ]
    }
   ],
   "source": [
    "# Identifying outliers with IQR\n",
    "Q1 = earnings_data['Net Income'].quantile(0.25)\n",
    "Q3 = earnings_data['Net Income'].quantile(0.75)\n",
    "IQR = Q3 - Q1\n",
    "\n",
    "# Calculating lower and upper bounds\n",
    "lower_bound = Q1 - 1.5 * IQR\n",
    "upper_bound = Q3 + 1.5 * IQR\n",
    "\n",
    "# Identifying outliers\n",
    "outliers_iqr = earnings_data[(earnings_data['Net Income'] < lower_bound) | (earnings_data['Net Income'] > upper_bound)]\n",
    "print(\"Outliers (IQR method):\")\n",
    "print(outliers_iqr)\n",
    "#TSM company's data appeared to be an outlier, which may indicate that it has a higher net income compared to other companies, and TCEHY company also seems to have generated more income compared to other companies in 2021.\n"
   ]
  },
  {
   "cell_type": "code",
   "execution_count": 41,
   "id": "f63e273e-100a-44d2-9b59-93cfbc0198f0",
   "metadata": {},
   "outputs": [
    {
     "name": "stdout",
     "output_type": "stream",
     "text": [
      "count                50\n",
      "mean    105,071,552,000\n",
      "std     201,987,436,387\n",
      "min      -2,722,000,000\n",
      "25%      13,759,500,000\n",
      "50%      39,819,500,000\n",
      "75%      85,237,250,000\n",
      "max     992,923,400,000\n",
      "Name: Net Income, dtype: float64\n"
     ]
    }
   ],
   "source": [
    "\n",
    "# Getting summary statistics for 'Net Income' column only\n",
    "summary_stats = earnings_data['Net Income'].describe().T\n",
    "\n",
    "print(summary_stats)\n",
    "# A negative net income value indicates that either there is incorrect data or the company is making a loss. There should be  investigation into this. The difference between the standard deviation and the mean is high. There may be  skewness."
   ]
  },
  {
   "cell_type": "code",
   "execution_count": 43,
   "id": "5f97114c-4de0-457d-9a81-7ee02cf8cd32",
   "metadata": {},
   "outputs": [
    {
     "name": "stdout",
     "output_type": "stream",
     "text": [
      "Skewness: 3.305188371127303\n",
      "The distribution is right skewed (positive skew).\n"
     ]
    }
   ],
   "source": [
    "# Calculate skewness\n",
    "skewness = earnings_data['Net Income'].skew()\n",
    "\n",
    "# Print the skewness value\n",
    "print(f\"Skewness: {skewness}\")\n",
    "\n",
    "# Interpretation\n",
    "if skewness > 0:\n",
    "    print(\"The distribution is right skewed (positive skew).\")\n",
    "elif skewness < 0:\n",
    "    print(\"The distribution is left skewed (negative skew).\")\n",
    "else:\n",
    "    print(\"The distribution is symmetric.\")"
   ]
  },
  {
   "cell_type": "code",
   "execution_count": 19,
   "id": "ab88c723-f65a-460d-bf24-3543887039e2",
   "metadata": {},
   "outputs": [
    {
     "name": "stdout",
     "output_type": "stream",
     "text": [
      "       Net Income symbol  Year\n",
      "19 -2,722,000,000   AMZN  2022\n"
     ]
    }
   ],
   "source": [
    "# Filtering out negative net income\n",
    "negative_net_income = earnings_data[earnings_data['Net Income'] < 0]\n",
    "print(negative_net_income)\n",
    "\n",
    "#It looks like the 'Net Income' column only has one negative value"
   ]
  },
  {
   "cell_type": "code",
   "execution_count": 21,
   "id": "0024fd64-295d-47f4-a042-3c3055f88611",
   "metadata": {},
   "outputs": [
    {
     "name": "stdout",
     "output_type": "stream",
     "text": [
      "       Net Income symbol  Year\n",
      "18 30,425,000,000   AMZN  2023\n",
      "19 -2,722,000,000   AMZN  2022\n",
      "20 33,364,000,000   AMZN  2021\n",
      "21 21,331,000,000   AMZN  2020\n",
      "43 37,684,000,000   AMZN  2024\n"
     ]
    }
   ],
   "source": [
    "#Checking the net income of Apple for other years\n",
    "print(earnings_data[earnings_data['symbol'] == 'AMZN'])"
   ]
  },
  {
   "cell_type": "code",
   "execution_count": 45,
   "id": "a4d3762a-6cc5-4947-a8bd-17d6168e7dc3",
   "metadata": {},
   "outputs": [
    {
     "name": "stdout",
     "output_type": "stream",
     "text": [
      "Percentage change in 2022 compared to 2021:-108.16%\n"
     ]
    }
   ],
   "source": [
    "#How much did Apple's net income decrease in 2022 compared to 2021?\n",
    "#Select the relevant net income\n",
    "net_income_2021 =earnings_data.loc[(earnings_data['symbol'] == 'AMZN') & (earnings_data['Year'] == 2021), 'Net Income'].values[0]\n",
    "net_income_2022 = earnings_data.loc[(earnings_data['symbol'] == 'AMZN') & (earnings_data['Year'] == 2022), 'Net Income'].values[0]\n",
    "\n",
    "# Calculate the percentage change\n",
    "percentage_change = ((net_income_2022 - net_income_2021) / abs(net_income_2021)) * 100\n",
    "\n",
    "# Print the result\n",
    "print(f\"Percentage change in 2022 compared to 2021:{percentage_change:.2f}%\")\n",
    "#Apple's annual net revenue in 2022 is -$2.722 billion, a decrease of 108.16% compared to 2021."
   ]
  },
  {
   "cell_type": "code",
   "execution_count": 27,
   "id": "0fc679d8-7f38-44c9-8f78-fb4193619ef8",
   "metadata": {},
   "outputs": [
    {
     "name": "stdout",
     "output_type": "stream",
     "text": [
      "   symbol  Year      Net Income\n",
      "0    AAPL  2020  57,411,000,000\n",
      "1    AAPL  2021  94,680,000,000\n",
      "2    AAPL  2022  99,803,000,000\n",
      "3    AAPL  2023  96,995,000,000\n",
      "4    AAPL  2024 100,389,000,000\n",
      "5    AMZN  2020  21,331,000,000\n",
      "6    AMZN  2021  33,364,000,000\n",
      "7    AMZN  2022  -2,722,000,000\n",
      "8    AMZN  2023  30,425,000,000\n",
      "9    AMZN  2024  37,684,000,000\n",
      "10   AVGO  2020   2,960,000,000\n",
      "11   AVGO  2021   6,736,000,000\n",
      "12   AVGO  2022  11,495,000,000\n",
      "13   AVGO  2023  14,082,000,000\n",
      "14   AVGO  2024  10,273,000,000\n",
      "15  GOOGL  2020  40,269,000,000\n",
      "16  GOOGL  2021  76,033,000,000\n",
      "17  GOOGL  2022  59,972,000,000\n",
      "18  GOOGL  2023  73,795,000,000\n",
      "19  GOOGL  2024  82,406,000,000\n",
      "20   META  2020  29,146,000,000\n",
      "21   META  2021  39,370,000,000\n",
      "22   META  2022  23,200,000,000\n",
      "23   META  2023  39,098,000,000\n",
      "24   META  2024  45,758,000,000\n",
      "25   MSFT  2020  44,281,000,000\n",
      "26   MSFT  2021  61,271,000,000\n",
      "27   MSFT  2022  72,738,000,000\n",
      "28   MSFT  2023  72,361,000,000\n",
      "29   MSFT  2024  86,181,000,000\n",
      "30   NVDA  2020   2,796,000,000\n",
      "31   NVDA  2021   4,332,000,000\n",
      "32   NVDA  2022   9,752,000,000\n",
      "33   NVDA  2023   4,368,000,000\n",
      "34   NVDA  2024  42,598,000,000\n",
      "35  TCEHY  2020 159,847,000,000\n",
      "36  TCEHY  2021 224,822,000,000\n",
      "37  TCEHY  2022 188,243,000,000\n",
      "38  TCEHY  2023 115,216,000,000\n",
      "39  TCEHY  2024  17,396,000,000\n",
      "40   TSLA  2020     721,000,000\n",
      "41   TSLA  2021   5,524,000,000\n",
      "42   TSLA  2022  12,583,000,000\n",
      "43   TSLA  2023  14,999,000,000\n",
      "44   TSLA  2024  13,652,000,000\n",
      "45    TSM  2020 510,744,000,000\n",
      "46    TSM  2021 592,359,200,000\n",
      "47    TSM  2022 992,923,400,000\n",
      "48    TSM  2023 851,740,000,000\n",
      "49    TSM  2024  28,177,000,000\n"
     ]
    },
    {
     "data": {
      "image/png": "[encoded data removed]",
      "text/plain": [
       "<Figure size 1400x800 with 1 Axes>"
      ]
     },
     "metadata": {},
     "output_type": "display_data"
    }
   ],
   "source": [
    "import pandas as pd\n",
    "import matplotlib.pyplot as plt\n",
    "\n",
    "#Visualization of Net Income Changes of Apple company in Last 5 Years\n",
    "\n",
    "# Grouping data and resetting the index\n",
    "grouped_earnings_data = earnings_data.groupby(['symbol', 'Year'], observed=False).agg({'Net Income': 'sum'}).reset_index()\n",
    "\n",
    "# Show grouped data\n",
    "print(grouped_earnings_data)\n",
    "\n",
    "# Visualization\n",
    "plt.figure(figsize=(14, 8))\n",
    "symbols = grouped_earnings_data['symbol'].unique()\n",
    "\n",
    "for symbol in symbols:\n",
    "    subset = grouped_earnings_data[grouped_earnings_data['symbol'] == symbol]\n",
    "    plt.plot(subset['Year'], subset['Net Income'], marker='o', label=symbol)\n",
    "\n",
    "plt.xlabel('Year')\n",
    "plt.ylabel('Net Income (in billions)')\n",
    "plt.title('Net Income Changes Over the Last 5 Years')\n",
    "plt.legend()\n",
    "plt.grid(True)\n",
    "plt.xticks(grouped_earnings_data['Year'].unique())\n",
    "plt.show()\n",
    "\n"
   ]
  },
  {
   "cell_type": "code",
   "execution_count": 47,
   "id": "c0925be2-a589-46b1-a404-e47eda593369",
   "metadata": {},
   "outputs": [
    {
     "name": "stdout",
     "output_type": "stream",
     "text": [
      "TSM (Taiwan Semiconductor Manufacturing Company) - percentage change in 2024 compared to 2020: -94.48%\n"
     ]
    }
   ],
   "source": [
    "#The percentage change in TSM's (Taiwan Semiconductor Manufacturing Company) net income in 2024 compared to 2020.\n",
    "# Select the relevant net income\n",
    "net_income_2020 =earnings_data.loc[(earnings_data['symbol'] == 'TSM') & (earnings_data['Year'] == 2020), 'Net Income'].values[0]\n",
    "net_income_2024 = earnings_data.loc[(earnings_data['symbol'] == 'TSM') & (earnings_data['Year'] == 2024), 'Net Income'].values[0]\n",
    "\n",
    "# Calculate the percentage change\n",
    "percentage_change = ((net_income_2024 - net_income_2020) / abs(net_income_2020)) * 100\n",
    "\n",
    "# Print the result\n",
    "print(f\"TSM (Taiwan Semiconductor Manufacturing Company) - percentage change in 2024 compared to 2020: {percentage_change:.2f}%\")\n",
    "\n"
   ]
  },
  {
   "cell_type": "code",
   "execution_count": 49,
   "id": "dd83d338-f09e-4946-b8b4-dd882f04d8d6",
   "metadata": {},
   "outputs": [
    {
     "name": "stdout",
     "output_type": "stream",
     "text": [
      "TCEHY (Tencent Holdings) -- percentage change in 2024 compared to 2021: -92.26%\n"
     ]
    }
   ],
   "source": [
    "#The percentage change in TCEHY 's (Tencent Holdings) net income in 2024 compared to 2021.\n",
    "# Select the relevant net income\n",
    "net_income_2021 = earnings_data.loc[(earnings_data['symbol'] == 'TCEHY') & (earnings_data['Year'] == 2021), 'Net Income'].values[0]\n",
    "net_income_2024 = earnings_data.loc[(earnings_data['symbol'] == 'TCEHY') & (earnings_data['Year'] == 2024), 'Net Income'].values[0]\n",
    "\n",
    "# Calculate the percentage change\n",
    "percentage_change = ((net_income_2024 - net_income_2021) / abs(net_income_2021)) * 100\n",
    "\n",
    "# Print the result\n",
    "print(f\"TCEHY (Tencent Holdings) - percentage change in 2024 compared to 2021: {percentage_change:.2f}%\")\n"
   ]
  },
  {
   "cell_type": "code",
   "execution_count": 51,
   "id": "74521069-3142-4184-a89f-1381db5a755f",
   "metadata": {},
   "outputs": [
    {
     "name": "stdout",
     "output_type": "stream",
     "text": [
      " NVDA(NVIDIA) -percentage change in 2024 compared to 2020: 1423.53%\n"
     ]
    }
   ],
   "source": [
    "#The percentage change in  NVDA 's (NVIDIA) net income in 2024 compared to 2021.\n",
    "# Select the relevant net income\n",
    "net_income_2020 =earnings_data.loc[(earnings_data['symbol'] == 'NVDA') & (earnings_data['Year'] == 2020), 'Net Income'].values[0]\n",
    "net_income_2024 = earnings_data.loc[(earnings_data['symbol'] == 'NVDA') & (earnings_data['Year'] == 2024), 'Net Income'].values[0]\n",
    "\n",
    "# Calculate the percentage change\n",
    "percentage_change = ((net_income_2024 - net_income_2020) / abs(net_income_2020)) * 100\n",
    "\n",
    "# Print the result\n",
    "print(f\" NVDA(NVIDIA) -percentage change in 2024 compared to 2020: {percentage_change:.2f}%\")  "
   ]
  },
  {
   "cell_type": "code",
   "execution_count": 53,
   "id": "5b78119b-488c-4a18-9797-5ad9fd350b57",
   "metadata": {},
   "outputs": [
    {
     "name": "stdout",
     "output_type": "stream",
     "text": [
      " AAPL(Apple) -percentage change in 2023 compared to 2022: -2.81%\n"
     ]
    }
   ],
   "source": [
    "#The percentage change in AAPL 's (Apple)net income in 2024 compared to 2021.\n",
    "# Select the relevant net income\n",
    "net_income_2022 =earnings_data.loc[(earnings_data['symbol'] == 'AAPL') & (earnings_data['Year'] == 2022), 'Net Income'].values[0]\n",
    "net_income_2023 = earnings_data.loc[(earnings_data['symbol'] == 'AAPL') & (earnings_data['Year'] == 2023), 'Net Income'].values[0]\n",
    "\n",
    "# Calculate the percentage change\n",
    "percentage_change = ((net_income_2023 - net_income_2022) / abs(net_income_2022)) * 100\n",
    "\n",
    "# Print the result\n",
    "print(f\" AAPL(Apple) -percentage change in 2023 compared to 2022: {percentage_change:.2f}%\")"
   ]
  },
  {
   "cell_type": "code",
   "execution_count": 37,
   "id": "f47b07a1-4310-4619-9ddd-ca25a0c59408",
   "metadata": {},
   "outputs": [],
   "source": [
    "\n",
    "### TSMC (Taiwan Semiconductor Manufacturing Company)\n",
    "#TSMC was the company with the highest net income between 2020 and 2023. However, in 2024, there was a significant decline in net income. Compared to 2020, TSMC's net income in 2024 showed a decrease of approximately 94.5%. This indicates a severe deterioration in the company's financial performance.\n",
    "\n",
    "### TCEHY (Tencent Holdings)\n",
    "#TCEHY was the company with the second highest net income in 2020 and 2021. However, after 2021, there was a substantial decline in net income, and by 2024, it had decreased by 92.3% compared to 2020. This signifies a major setback in the company's financial performance.\n",
    "\n",
    "### NVIDIA\n",
    "#NVIDIA experienced a substantial increase in net income in 2024. Compared to 2020, there was a 1423.5% increase, highlighting NVIDIA's significant growth potential.\n",
    "\n",
    "### Apple\n",
    "#High Net Income: Apple consistently achieved high net incomes between 2020 and 2024, and it was the company with the highest net income in 2024.\n",
    "#Financial Stability: Despite some annual declines in net income, Apple's overall financial situation remained stable. Notably, it maintained high income figures between 2020 and 2024. Although there was a 2.8% decrease in net income from 2022 to 2023, this can typically be attributed to market conditions or the company's temporary strategic decisions.\n",
    "#Annual Fluctuations: A decline in net income was observed from 2022 to 2023. However, such fluctuations can result from various external factors or internal changes faced by the company.\n",
    "\n",
    "###Conclusion\n",
    "#Despite some annual fluctuations in net income, Apple can be considered a successful company due to its consistently high net income and financial stability. Being the company with the highest net income as of 2024 demonstrates Apple's strong financial performance and its ability to maintain a healthy financial position in the long term."
   ]
  },
  {
   "cell_type": "code",
   "execution_count": null,
   "id": "9cfd866f-a6e5-41ab-b043-e823f5fb711c",
   "metadata": {},
   "outputs": [],
   "source": []
  }
 ],
 "metadata": {
  "kernelspec": {
   "display_name": "Python 3 (ipykernel)",
   "language": "python",
   "name": "python3"
  },
  "language_info": {
   "codemirror_mode": {
    "name": "ipython",
    "version": 3
   },
   "file_extension": ".py",
   "mimetype": "text/x-python",
   "name": "python",
   "nbconvert_exporter": "python",
   "pygments_lexer": "ipython3",
   "version": "3.12.4"
  }
 },
 "nbformat": 4,
 "nbformat_minor": 5
}
